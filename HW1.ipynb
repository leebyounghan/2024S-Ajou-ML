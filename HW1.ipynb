{
  "cells": [
    {
      "cell_type": "markdown",
      "metadata": {
        "id": "view-in-github",
        "colab_type": "text"
      },
      "source": [
        "<a href=\"https://colab.research.google.com/github/leebyounghan/2024S-Ajou-ML/blob/main/HW1.ipynb\" target=\"_parent\"><img src=\"https://colab.research.google.com/assets/colab-badge.svg\" alt=\"Open In Colab\"/></a>"
      ]
    },
    {
      "cell_type": "markdown",
      "metadata": {
        "id": "HiuqPKmhFjJZ"
      },
      "source": [
        "# HW1 :: EDA & Classificaion"
      ]
    },
    {
      "cell_type": "markdown",
      "metadata": {
        "id": "E_j4s928KEBc"
      },
      "source": [
        "## 코랩과 구글 드라이브 연동하기"
      ]
    },
    {
      "cell_type": "code",
      "execution_count": null,
      "metadata": {
        "id": "uxp3h-u3KDjh"
      },
      "outputs": [],
      "source": [
        "from google.colab import drive\n",
        "drive.mount('/content/drive')"
      ]
    },
    {
      "cell_type": "code",
      "execution_count": null,
      "metadata": {
        "id": "qARwVCK0KbnX"
      },
      "outputs": [],
      "source": [
        "# pwd 명령어로 현재 위치 확인\n",
        "!pwd"
      ]
    },
    {
      "cell_type": "code",
      "execution_count": null,
      "metadata": {
        "id": "JF-0b-trLWIa"
      },
      "outputs": [],
      "source": [
        "!ls"
      ]
    },
    {
      "cell_type": "code",
      "execution_count": null,
      "metadata": {
        "id": "K8ugjVg0LYX-"
      },
      "outputs": [],
      "source": [
        "# # 이 노트북 파일이 저장되어 있는 디렉토리 위치까지 옮기기\n",
        "cd /content/drive/'path'"
      ]
    },
    {
      "cell_type": "markdown",
      "metadata": {
        "id": "FvbVzxsIRwRP"
      },
      "source": [
        "---"
      ]
    },
    {
      "cell_type": "markdown",
      "metadata": {
        "id": "SHHh-sdrI47e"
      },
      "source": [
        "## 데이터 불러오기 & 살펴보기"
      ]
    },
    {
      "cell_type": "code",
      "execution_count": null,
      "metadata": {
        "id": "BMP_af_vIsjs"
      },
      "outputs": [],
      "source": [
        "# 이번 과제는 numpy, pandas와 같은 데이터를 불러내고 확인, 처리,\n",
        "# 수정 등을 쉽게 할 수 있는 library를 사용합니다.\n",
        "\n",
        "# 모듈 이름 뒤에 as를 쓰고 별칭을 적으면 해당 별칭으로 모듈을 호출할 수 있습니다.\n",
        "# 모듈명: numpy, 별칭: np => numpy를 쓰는 대신 np를 써서 numpy 호출\n",
        "# 모듈명: pandas, 별칭: pd => pandas를 쓰는 대신 pd를 써서 pandas 호출\n",
        "import numpy as np\n",
        "import pandas as pd"
      ]
    },
    {
      "cell_type": "code",
      "execution_count": null,
      "metadata": {
        "id": "ohwnlYNQB6kK"
      },
      "outputs": [],
      "source": [
        "# './'는 이 노트북 파일의 현재 위치를 뜻 합니다.\n",
        "# 노트북 파일과 같은 위치에 데이터 파일을 두어야 아래와 같이 데이터 파일을 불러올 수 있습니다.\n",
        "# kaggle 원본 데이터 파일과 다릅니다. 반드시 제공된 데이터를 사용하세요!\n",
        "path = '/content/drive/MyDrive/marketing_campaign_new.csv'\n",
        "\n",
        "# pandas의 read_csv 함수를 사용하여 csv파일을 DataFrame으로 불러옵니다.\n",
        "data = pd.read_csv(path)"
      ]
    },
    {
      "cell_type": "code",
      "execution_count": null,
      "metadata": {
        "id": "i1oNmJPRLpHk"
      },
      "outputs": [],
      "source": [
        "# DataFrame 혹은 Series와 같은 자료구조에 shape함수를 통해 데이터의 크기와\n",
        "# 변수의 갯수를 대략적으로 알 수 있습니다.\n",
        "\n",
        "data.shape # (10000, 23) => 10000 개의 row(행), 23 개의 column(열)을 가진 데이터"
      ]
    },
    {
      "cell_type": "code",
      "execution_count": null,
      "metadata": {
        "id": "3VW__vN3L9KH"
      },
      "outputs": [],
      "source": [
        "# head() 함수를 이용하여 해당 데이터의 맨 위 5개의 원소를 볼 수 있습니다.\n",
        "# 더 많은 행을 보고 싶다면 ()안에 숫자를 넣어주시면 됩니다.\n",
        "\n",
        "data.head()"
      ]
    },
    {
      "cell_type": "code",
      "execution_count": null,
      "metadata": {
        "id": "SuSLXcgKNUGB"
      },
      "outputs": [],
      "source": [
        "# tail() 함수를 이용하여 해당 데이터의 맨 뒤 5개의 원소를 볼 수 있습니다.\n",
        "# 더 많은 행을 보고 싶다면 ()안에 숫자를 넣어주시면 됩니다.\n",
        "\n",
        "data.tail()"
      ]
    },
    {
      "cell_type": "code",
      "execution_count": null,
      "metadata": {
        "id": "Dp-qGCHYfbvc"
      },
      "outputs": [],
      "source": [
        "# DataFrame을 이루고 있는 column의 이름을 확인합니다.\n",
        "\n",
        "data.columns"
      ]
    },
    {
      "cell_type": "code",
      "execution_count": null,
      "metadata": {
        "id": "Uo0rA2-Af2Ox"
      },
      "outputs": [],
      "source": [
        "# DataFrame을 이루고 있는 column 별 데이터의 타입을 확인합니다.\n",
        "\n",
        "data.dtypes"
      ]
    },
    {
      "cell_type": "code",
      "execution_count": null,
      "metadata": {
        "id": "tqr0vPEUgIXe"
      },
      "outputs": [],
      "source": [
        "# describe()는 각 column에 대해 통계량을 요약해주는 함수입니다.\n",
        "# 기본적으로 NaN(누락데이터)는 제외하고 데이터 요약이 수행됩니다.\n",
        "\n",
        "data.describe()"
      ]
    },
    {
      "cell_type": "code",
      "execution_count": null,
      "metadata": {
        "id": "dg_-ZfPA5Hn9"
      },
      "outputs": [],
      "source": [
        "# mode()는 각 컬럼에 대해 최빈값을 계산해주는 함수입니다.\n",
        "# 기본적으로 NaN(누락데이터)는 제외하고 데이터 요약이 수행됩니다.\n",
        "# mode() 함수는 모든 컬럼 유형에 대해 작동하며, 숫자형, 문자열, 범주형 데이터 등 모든 컬럼 타입에서 사용할 수 있습니다.\n",
        "\n",
        "data.mode().iloc[0]"
      ]
    },
    {
      "cell_type": "markdown",
      "metadata": {
        "id": "OxWUc9_uNhwr"
      },
      "source": [
        "## 문제 1 :: 변수의 타입"
      ]
    },
    {
      "cell_type": "markdown",
      "metadata": {
        "id": "zAUopgpbNwqH"
      },
      "source": [
        "* 보고서에 설명된 것을 바탕을 주어진 데이터의 변수들의 타입을 보고서에 기술하세요.\n",
        "\n",
        "  * 작성 형식) : 1. 변수 이름: categorical\n",
        "  * 작성 예시) 1. ID: Numeric"
      ]
    },
    {
      "cell_type": "markdown",
      "metadata": {
        "id": "snk7Cj9nCILY"
      },
      "source": [
        "정답)\n",
        "\n",
        "* ID:\n",
        "* Gender:\n",
        "* Year_Birth:\n",
        "* Education:\n",
        "* Marital_Status:\n",
        "* Income:\n",
        "* Kidhome:\n",
        "* Recency:\n",
        "* MntWines:\n",
        "* NumWebPurchases:\n",
        "* AcceptedCmp:\n",
        "* Complain:\n",
        "* Customer Type:\n",
        "* Response:"
      ]
    },
    {
      "cell_type": "markdown",
      "metadata": {
        "id": "vcSCug4uKTvJ"
      },
      "source": [
        "## 결측값과 중복값 확인하기\n",
        "결측값과 중복값은 데이터 분석 결과에 큰 영향을 줍니다.   \n",
        "제공된 데이터에 결측값과 중복값이 있는지 알아봅시다."
      ]
    },
    {
      "cell_type": "code",
      "execution_count": null,
      "metadata": {
        "id": "vAxj5i4SXmaq"
      },
      "outputs": [],
      "source": [
        "# isnull()는 DataFrame에 있는 결측치(NA)를 boolean 값으로 반환하는 함수입니다.\n",
        "# 결측치가 있으면 True를 반환합니다.\n",
        "\n",
        "data.isnull().head()"
      ]
    },
    {
      "cell_type": "code",
      "execution_count": null,
      "metadata": {
        "id": "GkFjz5EMWOvu"
      },
      "outputs": [],
      "source": [
        "# isnull()에 sum() 를 결합하여 DataFrame에 있는 결측치의 합을 구합니다.\n",
        "\n",
        "data.isnull().sum() # 문제3에서 KNN Imputer를 사용하여 결측값을 보정할 예정"
      ]
    },
    {
      "cell_type": "code",
      "execution_count": null,
      "metadata": {
        "id": "AdJnP1rO5Hn_"
      },
      "outputs": [],
      "source": [
        "# Income에 있는 적은 량의 결측치는 해당 열의 평균으로 채워줍니다.\n",
        "\n",
        "#data['Income'].fillna(data['Income'].mean(), inplace=True)\n",
        "mean_income = np.floor(data['Income'].mean())\n",
        "data['Income'].fillna(mean_income, inplace=True)"
      ]
    },
    {
      "cell_type": "code",
      "execution_count": null,
      "metadata": {
        "id": "PCi_2OXb5Hn_"
      },
      "outputs": [],
      "source": [
        "# 결측치가 너무 많은 Z_CostContact는 결측값을 보정하여도 유의미한 데이터를 가지지 못하기 떄문에 제거해 줍니다.\n",
        "\n",
        "data = data.drop(['Z_CostContact'], axis=1)"
      ]
    },
    {
      "cell_type": "code",
      "execution_count": null,
      "metadata": {
        "id": "bX4Z2P1BXu75"
      },
      "outputs": [],
      "source": [
        "# duplicated()는 중복된 데이터를 Series 형식으로 반환합니다.\n",
        "\n",
        "data.duplicated()"
      ]
    },
    {
      "cell_type": "code",
      "execution_count": null,
      "metadata": {
        "id": "UMkdBrhRWXvd"
      },
      "outputs": [],
      "source": [
        "# duplicated()에 sum()을 결합하여 DataFrame에 있는 중복 데이터의 합을 구합니다.\n",
        "\n",
        "data.duplicated().sum()"
      ]
    },
    {
      "cell_type": "markdown",
      "metadata": {
        "id": "TWo9MG0-FG96"
      },
      "source": [
        "## 문제 2 :: 데이터 정리\n"
      ]
    },
    {
      "cell_type": "markdown",
      "metadata": {
        "id": "iqCp7B2RGUbb"
      },
      "source": [
        "### 문제 2-1\n",
        "제공된 데이터에서 categorical 변수들을 주어진 조건에 따라 인코딩하고 작성한 코드를 캡처 후 보고서에 업로드 하세요.\n",
        "\n",
        "* data에서 Gender 열의 데이터 값을 `M`(Male)일 경우 0, `F`(Female)일 경우 1로 인코딩하세요.\n",
        "\n",
        "* data에서 Customer Type 열의 데이터 값을 `common`일 경우 0, `VIP`일 경우 1로 인코딩하세요.\n",
        "\n",
        "* data에서 Marital_Status 열의 데이터 값을 `Single`일 경우 0, `Married`일 경우 1, `Divorced`일 경우 2로 인코딩하세요.\n",
        "\n",
        "* data에서 Education 열의 데이터 값을 `Graduation`일 경우 0, `PhD`일 경우 1, `Master`일 경우 2, `Basic`일 경우 3, `2n Cycle`일 경우 4로 인코딩하세요."
      ]
    },
    {
      "cell_type": "code",
      "execution_count": null,
      "metadata": {
        "colab": {
          "base_uri": "https://localhost:8080/"
        },
        "id": "dLDDSfWzpFBZ",
        "outputId": "99aaa0a5-f3ea-4918-bc4e-01401a0c8765"
      },
      "outputs": [
        {
          "data": {
            "text/plain": [
              "array(['M', 'F'], dtype=object)"
            ]
          },
          "execution_count": 20,
          "metadata": {},
          "output_type": "execute_result"
        }
      ],
      "source": [
        "data['Gender'].unique()"
      ]
    },
    {
      "cell_type": "code",
      "execution_count": null,
      "metadata": {
        "colab": {
          "base_uri": "https://localhost:8080/"
        },
        "id": "Iddy4jHOea-U",
        "outputId": "ee3228fd-57aa-43bb-d7fe-6cbbdebba5a4"
      },
      "outputs": [
        {
          "data": {
            "text/plain": [
              "array(['VIP', 'common'], dtype=object)"
            ]
          },
          "execution_count": 21,
          "metadata": {},
          "output_type": "execute_result"
        }
      ],
      "source": [
        "data['Customer Type'].unique()"
      ]
    },
    {
      "cell_type": "code",
      "execution_count": null,
      "metadata": {
        "colab": {
          "base_uri": "https://localhost:8080/"
        },
        "id": "00y7c1BUFGTi",
        "outputId": "e96d4a9b-484a-4bdc-e7e9-8871e7d13c1b"
      },
      "outputs": [
        {
          "data": {
            "text/plain": [
              "array(['Single', 'Married', 'Divorced'], dtype=object)"
            ]
          },
          "execution_count": 22,
          "metadata": {},
          "output_type": "execute_result"
        }
      ],
      "source": [
        "data['Marital_Status'].unique()"
      ]
    },
    {
      "cell_type": "code",
      "execution_count": null,
      "metadata": {
        "colab": {
          "base_uri": "https://localhost:8080/"
        },
        "id": "TeeqFxy45HoA",
        "outputId": "adee1e19-4e49-41d4-ee7e-c5f7863451fb"
      },
      "outputs": [
        {
          "data": {
            "text/plain": [
              "array(['Graduation', 'PhD', 'Master', 'Basic', '2n Cycle'], dtype=object)"
            ]
          },
          "execution_count": 23,
          "metadata": {},
          "output_type": "execute_result"
        }
      ],
      "source": [
        "data['Education'].unique()"
      ]
    },
    {
      "cell_type": "code",
      "execution_count": null,
      "metadata": {
        "id": "-tYLfF6TFap6"
      },
      "outputs": [],
      "source": [
        "################  문제 2-1  ####################\n",
        "# 소스코드를 입력하고 캡처 후 보고서에 업로드하세요.\n",
        "# 코드 시작과 코드 끝 라인을 삭제하지 마세요.\n",
        "################ 코드 시작  #####################\n",
        "\n",
        "##################################################"
      ]
    },
    {
      "cell_type": "code",
      "execution_count": null,
      "metadata": {
        "id": "ezU7tqGUo7SY"
      },
      "outputs": [],
      "source": [
        "# 인코딩한 데이터 열의 데이터 속성을 변환하는 코드\n",
        "data['Gender'] = data['Gender'].astype('int')\n",
        "data['Customer Type'] = data['Customer Type'].astype('int')\n",
        "data['Marital_Status'] = data['Marital_Status'].astype('int')\n",
        "data['Education'] = data['Education'].astype('int')"
      ]
    },
    {
      "cell_type": "markdown",
      "metadata": {
        "id": "cL5wFdL2PzoG"
      },
      "source": [
        "### 문제 2-2\n",
        "오늘 날짜는 2024년 3월 16일 입니다.\n",
        "\n",
        "`Year_Birth` 열은 현재 년도 단위로 데이터가 구성되어 있습니다.\n",
        "나이 단위로 데이터를 나타내는 `Age`을 작성하고 캡처하여 보고서에 업로드 하세요.\n",
        "\n",
        "예)  1957년도 출생 => 2024-1957=67\n",
        "\n",
        "`DT_Customer` 열은 현재 날짜 단위로 데이터가 구성되어 있습니다.  \n",
        "년 단위로 데이터를 나타내는 `CustomerTenure`을 작성하고 캡처하여 보고서에 업로드 하세요.\n",
        "\n",
        "예) 04-09-2012 => (03-16-2024-04-09-2012)/365=11.94 (소수점 셋째자리에서 버림)\n",
        "\n",
        "**Hint) datetime.strptime**"
      ]
    },
    {
      "cell_type": "code",
      "execution_count": null,
      "metadata": {
        "id": "oaepiP-ZQFiM"
      },
      "outputs": [],
      "source": [
        "from datetime import datetime\n",
        "################  문제 2-2  ####################\n",
        "# 소스코드를 입력하고 캡처 후 보고서에 업로드하세요.\n",
        "# 코드 시작과 코드 끝 라인을 삭제하지 마세요.\n",
        "################ 코드 시작  #####################\n",
        "\n",
        "\n",
        "\n",
        "\n",
        "################ 코드 끝 ########################\n",
        "#################################################"
      ]
    },
    {
      "cell_type": "code",
      "execution_count": null,
      "metadata": {
        "id": "fyT2vdVoRJDe"
      },
      "outputs": [],
      "source": [
        "data.head()"
      ]
    },
    {
      "cell_type": "markdown",
      "metadata": {
        "id": "NBlhVAnc4b2g"
      },
      "source": [
        "### 문제 2-3\n",
        "`Year_Birth`와 `DT_Customer`, `Recency` 열의 이름을 각각 `Age`와 `CustomerTenure`, `Recency_in_years`로 변경하세요.\n",
        "\n",
        "**코드를 보고서에 캡처하여 업로드하세요.**"
      ]
    },
    {
      "cell_type": "code",
      "execution_count": null,
      "metadata": {
        "id": "ERyzc4KD2f91"
      },
      "outputs": [],
      "source": [
        "################  문제 2-3  #################\n",
        "# 열 이름 변경하기\n",
        "# 소스코드를 입력하고 캡처 후 보고서에 업로드하세요.\n",
        "# 코드 시작과 코드 끝 라인을 삭제하지 마세요.\n",
        "################ 코드 시작  ##################\n",
        "\n",
        "\n",
        "\n",
        "################ 코드 끝  ####################\n",
        "##############################################"
      ]
    },
    {
      "cell_type": "markdown",
      "metadata": {
        "id": "Bp3CDiOP5HoK"
      },
      "source": [
        "### 문제 2-4\n",
        "`AcceptedCmp`는 고객이 어떤 캠페인에 참여했는지 나타내는 열입니다.\n",
        "\n",
        "캠페인은 1, 2, 3, 4, 5 가 존재합니다.\n",
        "\n",
        "**One-hot encoding**(강의노트 2번 10쪽)을 통해 `AcceptedCmp`를 5개의 열로 변경하세요.\n",
        "\n",
        "예)  `AcceptedCmp1`, `AcceptedCmp2`, `AcceptedCmp3`, `AcceptedCmp4`, `AcceptedCmp5`\n",
        "\n",
        "**코드를 보고서에 캡처하여 업로드하세요.**"
      ]
    },
    {
      "cell_type": "code",
      "execution_count": null,
      "metadata": {
        "id": "UkgiJxEr5HoK"
      },
      "outputs": [],
      "source": [
        "################  문제 2-4  #################\n",
        "# 열 이름 변경하기\n",
        "# 소스코드를 입력하고 캡처 후 보고서에 업로드하세요.\n",
        "# 코드 시작과 코드 끝 라인을 삭제하지 마세요.\n",
        "################ 코드 시작  ##################\n",
        "\n",
        "\n",
        "################ 코드 끝  ####################\n",
        "##############################################"
      ]
    },
    {
      "cell_type": "code",
      "execution_count": null,
      "metadata": {
        "id": "Gscsiyis67jy"
      },
      "outputs": [],
      "source": [
        "data.head()"
      ]
    },
    {
      "cell_type": "markdown",
      "metadata": {
        "id": "cwfB3vI92gm5"
      },
      "source": [
        "## 문제 3 :: KNN Imputer"
      ]
    },
    {
      "cell_type": "markdown",
      "metadata": {
        "id": "qz1YtBjTrC8i"
      },
      "source": [
        "### **`MntToyProducts`** 열과 연관성이 높은 열 찾기\n"
      ]
    },
    {
      "cell_type": "markdown",
      "metadata": {
        "id": "y0r6LRZvJ_69"
      },
      "source": [
        "결측값이 있는 모든 행과 결측값이 없는 데이터 사이의 거리를 구할 수 있지만, 계산 시간이 매우 오려 걸려 `MntToyProducts` 열과 가장 연관성이 높은 `Kidhome` 과의 거리를 기준으로 결측값을 보정합니다."
      ]
    },
    {
      "cell_type": "code",
      "execution_count": null,
      "metadata": {
        "id": "w6Fc04jdtIGV"
      },
      "outputs": [],
      "source": [
        "corr = data.corr()\n",
        "corr.style.background_gradient(cmap='coolwarm')"
      ]
    },
    {
      "cell_type": "markdown",
      "metadata": {
        "id": "0re9u92U_T_N"
      },
      "source": [
        "`MntToyProducts` 와 `Kidhome`의 상관 계수가 0.88인 것으로 보아 두 열이 큰 상관 관계를 가짐을 알 수 있습니다.   따라서 두 열만 골라 X라는 데이터프레임을 만듭니다."
      ]
    },
    {
      "cell_type": "code",
      "execution_count": null,
      "metadata": {
        "id": "mN32FyQwcUE-"
      },
      "outputs": [],
      "source": [
        "X = data[['MntToyProducts', 'Kidhome']]"
      ]
    },
    {
      "cell_type": "markdown",
      "metadata": {
        "id": "Zx-soS0wX966"
      },
      "source": [
        "### 문제 3-1, 3-2\n",
        "K-Nearest Neighbor Imputation(강의노트 2번 23쪽)을 이용하여 결측치 채우기"
      ]
    },
    {
      "cell_type": "markdown",
      "metadata": {
        "id": "qAzcdrZB29wL"
      },
      "source": [
        "### 문제 3-1\n",
        "주어진 코드틀에 데이터프레임 X와 결측값이 있는 행 데이터 간의 거리 구하는 코드를 작성하세요.  \n",
        "* 주의) 코드틀 이외의 부분에 코드를 작성하지 마세요!\n",
        "* 주의) 소스코드를 입력하고 캡처 후 보고서에 업로드하세요.\n",
        "* 주의) 코드 시작과 코드 끝 라인을 삭제하지 마세요.\n",
        "\n"
      ]
    },
    {
      "cell_type": "markdown",
      "metadata": {
        "id": "lhZBA2RP3bma"
      },
      "source": [
        "### 문제 3-2\n",
        "주어진 코드틀에 k개의 \"MntToyProducts\" 값을 보고 평균을 내어 결측값을 결정하는 코드를 작성하세요.\n",
        "* 주의) 코드틀 이외의 부분에 코드를 작성하지 마세요!\n",
        "* 주의) 소스코드를 입력하고 캡처 후 보고서에 업로드하세요.\n",
        "* 주의) 코드 시작과 코드 끝 라인을 삭제하지 마세요."
      ]
    },
    {
      "cell_type": "code",
      "execution_count": null,
      "metadata": {
        "id": "HERopBDHv24c"
      },
      "outputs": [],
      "source": [
        "from tqdm.notebook import tqdm"
      ]
    },
    {
      "cell_type": "code",
      "execution_count": null,
      "metadata": {
        "id": "jOnalJiib0Pi"
      },
      "outputs": [],
      "source": [
        "class Knn_imputer():\n",
        "  def __init__(self, n_neighbors):\n",
        "\n",
        "    ## 생성자로 최근접 이웃수(n_neighbors)를 입력 받습니다.\n",
        "    self.k = n_neighbors\n",
        "\n",
        "  ## knn 은 lazy learning 입니다.\n",
        "  def fit(self,X):\n",
        "      self.X = X\n",
        "\n",
        "  def predict(self, X):\n",
        "\n",
        "    for i in tqdm(range(len(X))):\n",
        "     if pd.isnull(X['MntToyProducts'].iloc[i]): # Arrival Delay 열에 있는 결측값 확인\n",
        "\n",
        "        distance = self.dist(X, X.iloc[i]) # 데이터프레임 X와 결측값이 있는 행 데이터 간의 거리 구하는 함수\n",
        "        sorted_dist = sorted(distance.items(), key=lambda x: x[1]) # distance 를 sorting 하기\n",
        "\n",
        "         ################  문제 3-2  ####################\n",
        "         # k개의 \"MntToyProducts\" 값을 보고 평균 내어\n",
        "         # 값을 결정하기\n",
        "\n",
        "         # 소스코드를 입력하고 캡처 후 보고서에 업로드하세요.\n",
        "         # 코드 시작과 코드 끝 라인을 삭제하지 마세요.\n",
        "        ################ 코드 시작  #####################\n",
        "\n",
        "\n",
        "\n",
        "        ################ 코드 끝  ######################\n",
        "        ##############################################\n",
        "\n",
        "    return X['MntToyProducts']\n",
        "\n",
        "  def dist(self, X, y):\n",
        "    num_train = X.shape[0]\n",
        "\n",
        "    X = X.drop(['MntToyProducts'], axis=1)\n",
        "    y = y.drop(['MntToyProducts'])\n",
        "    dist_dict = {} ## {index : distance} 형태\n",
        "\n",
        "    for i in range(num_train):\n",
        "\n",
        "    ################  문제 3-1  ####################\n",
        "    # 데이터프레임 X와 결측값이 있는 행 데이터 간의 거리 구하기\n",
        "    # 소스코드를 입력하고 캡처 후 보고서에 업로드하세요.\n",
        "    # 코드 시작과 코드 끝 라인을 삭제하지 마세요.\n",
        "    ################ 코드 시작  #####################\n",
        "\n",
        "\n",
        "    ################ 코드 끝  ######################\n",
        "    ##############################################\n",
        "\n",
        "    return dist_dict\n"
      ]
    },
    {
      "cell_type": "code",
      "execution_count": null,
      "metadata": {
        "id": "iB4-y16HjMhz"
      },
      "outputs": [],
      "source": [
        "imputer = Knn_imputer(3)\n",
        "imputer.fit(X)\n",
        "\n",
        "# test set에 대해 predict를 진행합니다.\n",
        "data['MntToyProducts'] = imputer.predict(X) # 오래 걸립니다"
      ]
    },
    {
      "cell_type": "code",
      "execution_count": null,
      "metadata": {
        "id": "cwNwkbZbiWsk"
      },
      "outputs": [],
      "source": [
        "data.head()"
      ]
    },
    {
      "cell_type": "code",
      "execution_count": null,
      "metadata": {
        "id": "cAwpm8qPiHFn"
      },
      "outputs": [],
      "source": [
        "X.isnull().sum()"
      ]
    },
    {
      "cell_type": "code",
      "execution_count": null,
      "metadata": {
        "id": "XAbpLgWuAm67"
      },
      "outputs": [],
      "source": [
        "data.isnull().sum() # 결측값이 채워졌는지 확인"
      ]
    },
    {
      "cell_type": "markdown",
      "metadata": {
        "id": "VYHiUEq1i3Xr"
      },
      "source": [
        "# 문제 4 :: 데이터 시각화\n",
        "\n",
        "## 제공된 데이터를 활용하여 아래의 plot들을 그리도록 하고 캡처 후 작성한 보고서에 업로드 하세요.\n",
        "- 4-1 : **box plot**\n",
        "- 4-2 : **histogram plot**\n",
        "- 4-3 : **bar plot**\n",
        "- 4-4 : **scatter plot**\n"
      ]
    },
    {
      "cell_type": "code",
      "execution_count": null,
      "metadata": {
        "id": "tJmcQWAeE0Ef"
      },
      "outputs": [],
      "source": [
        "import seaborn as sns\n",
        "import matplotlib.pyplot as plt"
      ]
    },
    {
      "cell_type": "code",
      "execution_count": null,
      "metadata": {
        "id": "ZzY3z88UXEeO"
      },
      "outputs": [],
      "source": [
        "x = [0,1,2,3,4]\n",
        "y = [0,2,4,6,8]\n",
        "\n",
        "sns.lineplot(x = x, y = y)"
      ]
    },
    {
      "cell_type": "code",
      "execution_count": null,
      "metadata": {
        "id": "auGtoC6GXONy"
      },
      "outputs": [],
      "source": [
        "df = pd.DataFrame({'x':x, 'y':y})"
      ]
    },
    {
      "cell_type": "code",
      "execution_count": null,
      "metadata": {
        "id": "3MN6t8PlXZef"
      },
      "outputs": [],
      "source": [
        "# df를 인자를 주고, 변수를 문자열로 넘겨줘서 사용할 수 있음\n",
        "sns.lineplot(data=df, x = 'x', y = 'y')"
      ]
    },
    {
      "cell_type": "code",
      "execution_count": null,
      "metadata": {
        "id": "HMjjclbcXqAU"
      },
      "outputs": [],
      "source": [
        "# 복수의 plot을 한번에 그리기\n",
        "\n",
        "#nrows = 열, ncols = 행 (1,2)개짜리 상자를 만듬\n",
        "fig, axes = plt.subplots(nrows=1, ncols=2, figsize=(12, 6))\n",
        "\n",
        "# 첫 번째 plot\n",
        "sns.lineplot(data=df, x = 'x', y = 'y', ax=axes[0])\n",
        "axes[0].set_title('1')\n",
        "\n",
        "# 두 번째 plot\n",
        "sns.lineplot(data=df, x = 'x', y = 'y', ax=axes[1])\n",
        "axes[1].set_title('2')"
      ]
    },
    {
      "cell_type": "markdown",
      "metadata": {
        "id": "NJimw8b0EW2v"
      },
      "source": [
        "## 문제 4-1 box plot\n",
        "`Age`, `Income` 변수에 대해서 각각의 Box plot을 그리고 Treshold를 찾아 Outlier를 제거하시오.\n"
      ]
    },
    {
      "cell_type": "code",
      "execution_count": null,
      "metadata": {
        "id": "GB0rI_rxEP-E"
      },
      "outputs": [],
      "source": [
        "################  문제 4-1  ####################\n",
        "# 소스코드를 입력하고 캡처 후 보고서에 업로드하세요.\n",
        "# 코드 시작과 코드 끝 라인을 삭제하지 마세요.\n",
        "################ 코드 시작  #####################\n",
        "\n",
        "\n",
        "\n",
        "\n",
        "AgeTreshold =\n",
        "IncomeTreshold =\n",
        "\n",
        "################ 코드 끝  ######################\n",
        "##############################################\n",
        "data = data[data.Age < AgeTreshold]\n",
        "data = data[data.Income < IncomeTreshold]"
      ]
    },
    {
      "cell_type": "markdown",
      "metadata": {
        "id": "2Ic3CMgZFsS7"
      },
      "source": [
        "## 4-2 Histogram plot\n",
        "\n",
        "`NumWebPurchases`에 대한 히스토그램을 `Marital_Status`을 고려해서 함께 그리시오."
      ]
    },
    {
      "cell_type": "code",
      "execution_count": null,
      "metadata": {
        "id": "ZAikrjaUFltZ"
      },
      "outputs": [],
      "source": [
        "################  문제 4-2  ####################\n",
        "# 소스코드를 입력하고 캡처 후 보고서에 업로드하세요.\n",
        "# 코드 시작과 코드 끝 라인을 삭제하지 마세요.\n",
        "################ 코드 시작  #####################\n",
        "\n",
        "\n",
        "\n",
        "################ 코드 끝  ######################\n",
        "##############################################\n"
      ]
    },
    {
      "cell_type": "markdown",
      "metadata": {
        "id": "dxcrVFZOUUjY"
      },
      "source": [
        "## 4-3 bar plot\n",
        "\n",
        "X축 `Marital_Status` Y축을 `NumWebPurchases`로 하고 `Response`를 구분해서 bar plot을 그리시오.\n"
      ]
    },
    {
      "cell_type": "code",
      "execution_count": null,
      "metadata": {
        "id": "NaNvHxHzFwYi"
      },
      "outputs": [],
      "source": [
        "################  문제 4-3  ####################\n",
        "# 소스코드를 입력하고 캡처 후 보고서에 업로드하세요.\n",
        "# 코드 시작과 코드 끝 라인을 삭제하지 마세요.\n",
        "################ 코드 시작  #####################\n",
        "\n",
        "\n",
        "\n",
        "################ 코드 끝  ######################\n",
        "##############################################"
      ]
    },
    {
      "cell_type": "markdown",
      "metadata": {
        "id": "RI42A4cmVY5V"
      },
      "source": [
        "## 4-4 scatter plot\n",
        "\n",
        "`Income`과 가장 높은 상관관계(음,양)를 지니는 변수 2개를 선택하여 scatter plot을 그리시오."
      ]
    },
    {
      "cell_type": "code",
      "execution_count": null,
      "metadata": {
        "id": "az1ABZJBxauj"
      },
      "outputs": [],
      "source": [
        "corr = data.corr()\n",
        "corr.style.background_gradient(cmap='coolwarm')"
      ]
    },
    {
      "cell_type": "code",
      "execution_count": null,
      "metadata": {
        "id": "7ntKTT-ax6R0"
      },
      "outputs": [],
      "source": [
        "################  문제 4-4  ####################\n",
        "# 소스코드를 입력하고 캡처 후 보고서에 업로드하세요.\n",
        "# 코드 시작과 코드 끝 라인을 삭제하지 마세요.\n",
        "################ 코드 시작  #####################\n",
        "\n",
        "\n",
        "\n",
        "################ 코드 끝  ######################\n",
        "##############################################"
      ]
    },
    {
      "cell_type": "markdown",
      "metadata": {
        "id": "9-0PHnCAW8AI"
      },
      "source": [
        "## 문제 5\n",
        "- **데이터셋 분리**\n",
        "- **Knn 학습 및 하이퍼파라미터 비교 그래프 그리기**\n",
        "- **Decision Tree 및 하이퍼파라미터 비교 그래프 그리기**\n",
        "- **최종 모델 평가 및 비교**"
      ]
    },
    {
      "cell_type": "markdown",
      "metadata": {
        "id": "KQXK4myfW9_a"
      },
      "source": [
        "### train set과 test set 나누기"
      ]
    },
    {
      "cell_type": "code",
      "execution_count": null,
      "metadata": {
        "id": "9Z5dw2qqv8GK"
      },
      "outputs": [],
      "source": [
        "# train과 test set을 나누기 위한 함수\n",
        "from sklearn.model_selection import train_test_split"
      ]
    },
    {
      "cell_type": "code",
      "execution_count": null,
      "metadata": {
        "id": "Ga4Oh4AgG2_r"
      },
      "outputs": [],
      "source": [
        "# 5-1 . 데이터 스플릿\n",
        "from sklearn.model_selection import train_test_split\n",
        "y = data['Response'] # 정답 분리\n",
        "X = data.drop(columns =['Response']) # Train셋에 정답이 있으면 안됩니다.\n",
        "X_train, X_test, y_train, y_test = train_test_split(X, y, test_size=0.2) # test:train = 8:2"
      ]
    },
    {
      "cell_type": "markdown",
      "metadata": {
        "id": "HmSCo7A7ombW"
      },
      "source": [
        "### 문제 5-1\n",
        "**`KNeighborsClassifier`**를 사용하여 주어진 조건에 맞게 모델을 학습하고 완성한 코드를 보고서에 캡처하여 업로드하세요.\n",
        "* 조건 1: neighbor의 수 `k= [1, 3, 5, 15, 55, 101, 501]`으로 변화에 따른 정확도의 변화를\n",
        "`line plot`으로 그리고 가장 높은 성능의 `k`를 출력하시오.\n",
        "* 조건 2: train set에서 validation set을 나누세요. `train : validation = 7 : 3`\n",
        "\n",
        "* *주의! : test set이 아닌 validation set으로 평가해야 합니다.*"
      ]
    },
    {
      "cell_type": "code",
      "execution_count": null,
      "metadata": {
        "id": "Ux1Xc6Svo0vn"
      },
      "outputs": [],
      "source": [
        "from sklearn.neighbors import KNeighborsClassifier"
      ]
    },
    {
      "cell_type": "code",
      "execution_count": null,
      "metadata": {
        "id": "h2DCiqXGywvY"
      },
      "outputs": [],
      "source": [
        "################  문제 5-1  ####################\n",
        "# 소스코드를 입력하고 캡처 후 보고서에 업로드하세요.\n",
        "# 코드 시작과 코드 끝 라인을 삭제하지 마세요.\n",
        "################ 코드 시작  #####################\n",
        "\n",
        "\n",
        "\n",
        "################ 코드 끝  ######################\n",
        "##############################################"
      ]
    },
    {
      "cell_type": "code",
      "execution_count": null,
      "metadata": {
        "id": "xvwSWEpCzHeB"
      },
      "outputs": [],
      "source": [
        "sns.lineplot(x = numK, y = knn_scores)"
      ]
    },
    {
      "cell_type": "markdown",
      "metadata": {
        "id": "eT4QWs54ACwe"
      },
      "source": [
        "### 문제 5-2\n",
        "**`DecisionTreeClassifier`**를 사용하여 주어진 조건에 맞게 모델을 학습하고 완성한 코드 및 출력물을 보고서에 캡처하여 업로드하세요.\n",
        "* 조건 1: 최대 트리의 깊이를 `depth  = [1, 3, 5, 10, 15, 30, 20]`으로 변화에 따른 정확도의 변화를 `line plot`으로 그리고 가장 높은 성능의 `depth`를 출력하시오.\n",
        "* 조건 2: train set에서 validation set을 나누세요. `train : validation = 7 : 3`\n",
        "\n",
        "* *주의! : test set이 아닌 validation set으로 평가해야 합니다.*"
      ]
    },
    {
      "cell_type": "code",
      "execution_count": null,
      "metadata": {
        "id": "cnshdthzk4_s"
      },
      "outputs": [],
      "source": [
        "from sklearn.tree import DecisionTreeClassifier"
      ]
    },
    {
      "cell_type": "code",
      "execution_count": null,
      "metadata": {
        "id": "VJh94PKvAaZA"
      },
      "outputs": [],
      "source": [
        "################  문제 5-2  ####################\n",
        "# 소스코드를 입력하고 캡처 후 보고서에 업로드하세요.\n",
        "# 코드 시작과 코드 끝 라인을 삭제하지 마세요.\n",
        "################ 코드 시작  #####################\n",
        "\n",
        "\n",
        "\n",
        "################ 코드 끝  ######################\n",
        "##############################################"
      ]
    },
    {
      "cell_type": "code",
      "execution_count": null,
      "metadata": {
        "id": "G7iqJK5ORoPL"
      },
      "outputs": [],
      "source": [
        "sns.lineplot(x = num_dep, y = dt_scores)"
      ]
    },
    {
      "cell_type": "markdown",
      "metadata": {
        "id": "EEBQjrItehXt"
      },
      "source": [
        "### 문제 5-3\n",
        "`문제 5-1` 과 `문제 5-2`에서 찾은 best 하이퍼파라미터 (k, max depth)로 두 분류기를 전체 train set 다시 각각 학습하여 test set으로 평가하고 완성한 코드와 출력을 보고서에 캡처하여 업로드하세요.\n",
        "\n",
        "* 위에서 찾은 최적의 하이퍼파라미터 선택\n",
        "* 전체 train set으로 분류기 학습\n",
        "* Test set을 통해서 평가 및 비교"
      ]
    },
    {
      "cell_type": "code",
      "execution_count": null,
      "metadata": {
        "id": "_fbq-2XWemRF"
      },
      "outputs": [],
      "source": [
        "################  문제 5-2  ####################\n",
        "# 소스코드를 입력하고 캡처 후 보고서에 업로드하세요.\n",
        "# 코드 시작과 코드 끝 라인을 삭제하지 마세요.\n",
        "################ 코드 시작  #####################\n",
        "\n",
        "best_k =\n",
        "best_depth =\n",
        "\n",
        "Knn_acc =\n",
        "DT_acc =\n",
        "print(Knn_acc)\n",
        "print(DT_acc)\n",
        "################ 코드 끝  ######################\n",
        "##############################################"
      ]
    },
    {
      "cell_type": "markdown",
      "metadata": {
        "id": "ZuWyQmrD4GX2"
      },
      "source": [
        "# 깃허브에 업로드하기\n",
        "* colab with github 문서 참고"
      ]
    }
  ],
  "metadata": {
    "colab": {
      "provenance": [],
      "include_colab_link": true
    },
    "kernelspec": {
      "display_name": "Python 3",
      "name": "python3"
    },
    "language_info": {
      "name": "python"
    }
  },
  "nbformat": 4,
  "nbformat_minor": 0
}